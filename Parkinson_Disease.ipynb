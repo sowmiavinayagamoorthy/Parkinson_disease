{
  "cells": [
    {
      "cell_type": "code",
      "execution_count": 3,
      "metadata": {
        "id": "mQSys62efhoG"
      },
      "outputs": [],
      "source": [
        "import numpy as np\n",
        "import pandas as pd\n",
        "import matplotlib.pyplot as plt\n",
        "import seaborn as sb\n",
        "\n",
        "from imblearn.over_sampling import RandomOverSampler\n",
        "from sklearn.model_selection import train_test_split\n",
        "from sklearn.preprocessing import LabelEncoder, MinMaxScaler\n",
        "from sklearn.feature_selection import SelectKBest, chi2\n",
        "from tqdm.notebook import tqdm\n",
        "from sklearn import metrics\n",
        "from sklearn.svm import SVC\n",
        "from xgboost import XGBClassifier\n",
        "from sklearn.linear_model import LogisticRegression\n",
        "\n",
        "import warnings\n",
        "warnings.filterwarnings('ignore')"
      ]
    },
    {
      "cell_type": "code",
      "execution_count": 2,
      "metadata": {},
      "outputs": [
        {
          "name": "stdout",
          "output_type": "stream",
          "text": [
            "Defaulting to user installation because normal site-packages is not writeableNote: you may need to restart the kernel to use updated packages.\n",
            "\n",
            "Collecting imblearn\n",
            "  Downloading imblearn-0.0-py2.py3-none-any.whl.metadata (355 bytes)\n",
            "Collecting imbalanced-learn (from imblearn)\n",
            "  Downloading imbalanced_learn-0.13.0-py3-none-any.whl.metadata (8.8 kB)\n",
            "Requirement already satisfied: numpy<3,>=1.24.3 in c:\\users\\manoj\\appdata\\roaming\\python\\python312\\site-packages (from imbalanced-learn->imblearn) (2.0.1)\n",
            "Requirement already satisfied: scipy<2,>=1.10.1 in c:\\users\\manoj\\appdata\\roaming\\python\\python312\\site-packages (from imbalanced-learn->imblearn) (1.14.0)\n",
            "Requirement already satisfied: scikit-learn<2,>=1.3.2 in c:\\users\\manoj\\appdata\\roaming\\python\\python312\\site-packages (from imbalanced-learn->imblearn) (1.5.1)\n",
            "Collecting sklearn-compat<1,>=0.1 (from imbalanced-learn->imblearn)\n",
            "  Downloading sklearn_compat-0.1.3-py3-none-any.whl.metadata (18 kB)\n",
            "Requirement already satisfied: joblib<2,>=1.1.1 in c:\\users\\manoj\\appdata\\roaming\\python\\python312\\site-packages (from imbalanced-learn->imblearn) (1.4.2)\n",
            "Requirement already satisfied: threadpoolctl<4,>=2.0.0 in c:\\users\\manoj\\appdata\\roaming\\python\\python312\\site-packages (from imbalanced-learn->imblearn) (3.5.0)\n",
            "Downloading imblearn-0.0-py2.py3-none-any.whl (1.9 kB)\n",
            "Downloading imbalanced_learn-0.13.0-py3-none-any.whl (238 kB)\n",
            "Downloading sklearn_compat-0.1.3-py3-none-any.whl (18 kB)\n",
            "Installing collected packages: sklearn-compat, imbalanced-learn, imblearn\n",
            "Successfully installed imbalanced-learn-0.13.0 imblearn-0.0 sklearn-compat-0.1.3\n"
          ]
        },
        {
          "name": "stderr",
          "output_type": "stream",
          "text": [
            "\n",
            "[notice] A new release of pip is available: 24.3.1 -> 25.2\n",
            "[notice] To update, run: python.exe -m pip install --upgrade pip\n"
          ]
        }
      ],
      "source": [
        "pip install imblearn"
      ]
    },
    {
      "cell_type": "code",
      "execution_count": 4,
      "metadata": {
        "id": "U4xaCAKSgxsP"
      },
      "outputs": [],
      "source": [
        "df = pd.read_csv('parkinson_disease.csv')"
      ]
    },
    {
      "cell_type": "code",
      "execution_count": 5,
      "metadata": {
        "colab": {
          "base_uri": "https://localhost:8080/",
          "height": 236
        },
        "id": "hBeAwdnzg3io",
        "outputId": "b88ac480-3e2c-40c6-de3e-5b62d276e766"
      },
      "outputs": [
        {
          "data": {
            "text/html": [
              "<div>\n",
              "<style scoped>\n",
              "    .dataframe tbody tr th:only-of-type {\n",
              "        vertical-align: middle;\n",
              "    }\n",
              "\n",
              "    .dataframe tbody tr th {\n",
              "        vertical-align: top;\n",
              "    }\n",
              "\n",
              "    .dataframe thead th {\n",
              "        text-align: right;\n",
              "    }\n",
              "</style>\n",
              "<table border=\"1\" class=\"dataframe\">\n",
              "  <thead>\n",
              "    <tr style=\"text-align: right;\">\n",
              "      <th></th>\n",
              "      <th>id</th>\n",
              "      <th>gender</th>\n",
              "      <th>PPE</th>\n",
              "      <th>DFA</th>\n",
              "      <th>RPDE</th>\n",
              "      <th>...</th>\n",
              "      <th>tqwt_kurtosisValue_dec_33</th>\n",
              "      <th>tqwt_kurtosisValue_dec_34</th>\n",
              "      <th>tqwt_kurtosisValue_dec_35</th>\n",
              "      <th>tqwt_kurtosisValue_dec_36</th>\n",
              "      <th>class</th>\n",
              "    </tr>\n",
              "  </thead>\n",
              "  <tbody>\n",
              "    <tr>\n",
              "      <th>0</th>\n",
              "      <td>0</td>\n",
              "      <td>1</td>\n",
              "      <td>0.85247</td>\n",
              "      <td>0.71826</td>\n",
              "      <td>0.57227</td>\n",
              "      <td>...</td>\n",
              "      <td>4.4625</td>\n",
              "      <td>2.6202</td>\n",
              "      <td>3.0004</td>\n",
              "      <td>18.9405</td>\n",
              "      <td>1</td>\n",
              "    </tr>\n",
              "    <tr>\n",
              "      <th>1</th>\n",
              "      <td>0</td>\n",
              "      <td>1</td>\n",
              "      <td>0.76686</td>\n",
              "      <td>0.69481</td>\n",
              "      <td>0.53966</td>\n",
              "      <td>...</td>\n",
              "      <td>9.5082</td>\n",
              "      <td>6.5245</td>\n",
              "      <td>6.3431</td>\n",
              "      <td>45.1780</td>\n",
              "      <td>1</td>\n",
              "    </tr>\n",
              "    <tr>\n",
              "      <th>2</th>\n",
              "      <td>0</td>\n",
              "      <td>1</td>\n",
              "      <td>0.85083</td>\n",
              "      <td>0.67604</td>\n",
              "      <td>0.58982</td>\n",
              "      <td>...</td>\n",
              "      <td>4.8066</td>\n",
              "      <td>2.9199</td>\n",
              "      <td>3.1495</td>\n",
              "      <td>4.7666</td>\n",
              "      <td>1</td>\n",
              "    </tr>\n",
              "    <tr>\n",
              "      <th>3</th>\n",
              "      <td>1</td>\n",
              "      <td>0</td>\n",
              "      <td>0.41121</td>\n",
              "      <td>0.79672</td>\n",
              "      <td>0.59257</td>\n",
              "      <td>...</td>\n",
              "      <td>4.6857</td>\n",
              "      <td>4.8460</td>\n",
              "      <td>6.2650</td>\n",
              "      <td>4.0603</td>\n",
              "      <td>1</td>\n",
              "    </tr>\n",
              "    <tr>\n",
              "      <th>4</th>\n",
              "      <td>1</td>\n",
              "      <td>0</td>\n",
              "      <td>0.32790</td>\n",
              "      <td>0.79782</td>\n",
              "      <td>0.53028</td>\n",
              "      <td>...</td>\n",
              "      <td>11.6891</td>\n",
              "      <td>8.2103</td>\n",
              "      <td>5.0559</td>\n",
              "      <td>6.1164</td>\n",
              "      <td>1</td>\n",
              "    </tr>\n",
              "  </tbody>\n",
              "</table>\n",
              "<p>5 rows × 755 columns</p>\n",
              "</div>"
            ],
            "text/plain": [
              "   id  gender      PPE      DFA     RPDE  ...  tqwt_kurtosisValue_dec_33  \\\n",
              "0   0       1  0.85247  0.71826  0.57227  ...                     4.4625   \n",
              "1   0       1  0.76686  0.69481  0.53966  ...                     9.5082   \n",
              "2   0       1  0.85083  0.67604  0.58982  ...                     4.8066   \n",
              "3   1       0  0.41121  0.79672  0.59257  ...                     4.6857   \n",
              "4   1       0  0.32790  0.79782  0.53028  ...                    11.6891   \n",
              "\n",
              "   tqwt_kurtosisValue_dec_34  tqwt_kurtosisValue_dec_35  \\\n",
              "0                     2.6202                     3.0004   \n",
              "1                     6.5245                     6.3431   \n",
              "2                     2.9199                     3.1495   \n",
              "3                     4.8460                     6.2650   \n",
              "4                     8.2103                     5.0559   \n",
              "\n",
              "   tqwt_kurtosisValue_dec_36  class  \n",
              "0                    18.9405      1  \n",
              "1                    45.1780      1  \n",
              "2                     4.7666      1  \n",
              "3                     4.0603      1  \n",
              "4                     6.1164      1  \n",
              "\n",
              "[5 rows x 755 columns]"
            ]
          },
          "execution_count": 5,
          "metadata": {},
          "output_type": "execute_result"
        }
      ],
      "source": [
        "pd.set_option('display.max_columns', 10)\n",
        "df.head(5)"
      ]
    },
    {
      "cell_type": "code",
      "execution_count": 6,
      "metadata": {
        "colab": {
          "base_uri": "https://localhost:8080/"
        },
        "id": "7zlWkzd8g4gY",
        "outputId": "a25c4022-f3d5-4497-9ef2-5c8e625f7f5f"
      },
      "outputs": [
        {
          "data": {
            "text/plain": [
              "(756, 755)"
            ]
          },
          "execution_count": 6,
          "metadata": {},
          "output_type": "execute_result"
        }
      ],
      "source": [
        "df.shape"
      ]
    },
    {
      "cell_type": "code",
      "execution_count": 7,
      "metadata": {
        "colab": {
          "base_uri": "https://localhost:8080/"
        },
        "id": "Kb1NtiPONQDR",
        "outputId": "2ad3f8b6-8f9a-49b9-e2e3-f045c685f3c7"
      },
      "outputs": [
        {
          "name": "stdout",
          "output_type": "stream",
          "text": [
            "<class 'pandas.core.frame.DataFrame'>\n",
            "RangeIndex: 756 entries, 0 to 755\n",
            "Columns: 755 entries, id to class\n",
            "dtypes: float64(749), int64(6)\n",
            "memory usage: 4.4 MB\n"
          ]
        }
      ],
      "source": [
        "df.info()"
      ]
    },
    {
      "cell_type": "code",
      "execution_count": 8,
      "metadata": {
        "colab": {
          "base_uri": "https://localhost:8080/",
          "height": 424
        },
        "id": "_cLS3vt6g5Yu",
        "outputId": "023640cc-3999-49ad-8d85-a306f698f515"
      },
      "outputs": [
        {
          "data": {
            "text/html": [
              "<div>\n",
              "<style scoped>\n",
              "    .dataframe tbody tr th:only-of-type {\n",
              "        vertical-align: middle;\n",
              "    }\n",
              "\n",
              "    .dataframe tbody tr th {\n",
              "        vertical-align: top;\n",
              "    }\n",
              "\n",
              "    .dataframe thead th {\n",
              "        text-align: right;\n",
              "    }\n",
              "</style>\n",
              "<table border=\"1\" class=\"dataframe\">\n",
              "  <thead>\n",
              "    <tr style=\"text-align: right;\">\n",
              "      <th></th>\n",
              "      <th>count</th>\n",
              "      <th>mean</th>\n",
              "      <th>std</th>\n",
              "      <th>min</th>\n",
              "      <th>25%</th>\n",
              "      <th>50%</th>\n",
              "      <th>75%</th>\n",
              "      <th>max</th>\n",
              "    </tr>\n",
              "  </thead>\n",
              "  <tbody>\n",
              "    <tr>\n",
              "      <th>id</th>\n",
              "      <td>756.0</td>\n",
              "      <td>125.500000</td>\n",
              "      <td>72.793721</td>\n",
              "      <td>0.000000</td>\n",
              "      <td>62.750000</td>\n",
              "      <td>125.500000</td>\n",
              "      <td>188.250000</td>\n",
              "      <td>251.00000</td>\n",
              "    </tr>\n",
              "    <tr>\n",
              "      <th>gender</th>\n",
              "      <td>756.0</td>\n",
              "      <td>0.515873</td>\n",
              "      <td>0.500079</td>\n",
              "      <td>0.000000</td>\n",
              "      <td>0.000000</td>\n",
              "      <td>1.000000</td>\n",
              "      <td>1.000000</td>\n",
              "      <td>1.00000</td>\n",
              "    </tr>\n",
              "    <tr>\n",
              "      <th>PPE</th>\n",
              "      <td>756.0</td>\n",
              "      <td>0.746284</td>\n",
              "      <td>0.169294</td>\n",
              "      <td>0.041551</td>\n",
              "      <td>0.762833</td>\n",
              "      <td>0.809655</td>\n",
              "      <td>0.834315</td>\n",
              "      <td>0.90766</td>\n",
              "    </tr>\n",
              "    <tr>\n",
              "      <th>DFA</th>\n",
              "      <td>756.0</td>\n",
              "      <td>0.700414</td>\n",
              "      <td>0.069718</td>\n",
              "      <td>0.543500</td>\n",
              "      <td>0.647053</td>\n",
              "      <td>0.700525</td>\n",
              "      <td>0.754985</td>\n",
              "      <td>0.85264</td>\n",
              "    </tr>\n",
              "    <tr>\n",
              "      <th>RPDE</th>\n",
              "      <td>756.0</td>\n",
              "      <td>0.489058</td>\n",
              "      <td>0.137442</td>\n",
              "      <td>0.154300</td>\n",
              "      <td>0.386537</td>\n",
              "      <td>0.484355</td>\n",
              "      <td>0.586515</td>\n",
              "      <td>0.87123</td>\n",
              "    </tr>\n",
              "    <tr>\n",
              "      <th>...</th>\n",
              "      <td>...</td>\n",
              "      <td>...</td>\n",
              "      <td>...</td>\n",
              "      <td>...</td>\n",
              "      <td>...</td>\n",
              "      <td>...</td>\n",
              "      <td>...</td>\n",
              "      <td>...</td>\n",
              "    </tr>\n",
              "    <tr>\n",
              "      <th>tqwt_kurtosisValue_dec_33</th>\n",
              "      <td>756.0</td>\n",
              "      <td>12.375335</td>\n",
              "      <td>16.341665</td>\n",
              "      <td>1.628700</td>\n",
              "      <td>3.114375</td>\n",
              "      <td>4.741450</td>\n",
              "      <td>12.201325</td>\n",
              "      <td>73.53220</td>\n",
              "    </tr>\n",
              "    <tr>\n",
              "      <th>tqwt_kurtosisValue_dec_34</th>\n",
              "      <td>756.0</td>\n",
              "      <td>14.799230</td>\n",
              "      <td>15.722502</td>\n",
              "      <td>1.861700</td>\n",
              "      <td>3.665925</td>\n",
              "      <td>6.725700</td>\n",
              "      <td>21.922050</td>\n",
              "      <td>62.00730</td>\n",
              "    </tr>\n",
              "    <tr>\n",
              "      <th>tqwt_kurtosisValue_dec_35</th>\n",
              "      <td>756.0</td>\n",
              "      <td>14.751559</td>\n",
              "      <td>14.432979</td>\n",
              "      <td>1.955900</td>\n",
              "      <td>3.741275</td>\n",
              "      <td>7.334250</td>\n",
              "      <td>22.495175</td>\n",
              "      <td>57.54430</td>\n",
              "    </tr>\n",
              "    <tr>\n",
              "      <th>tqwt_kurtosisValue_dec_36</th>\n",
              "      <td>756.0</td>\n",
              "      <td>31.481110</td>\n",
              "      <td>34.230991</td>\n",
              "      <td>2.364000</td>\n",
              "      <td>3.948750</td>\n",
              "      <td>10.637250</td>\n",
              "      <td>61.125325</td>\n",
              "      <td>156.42370</td>\n",
              "    </tr>\n",
              "    <tr>\n",
              "      <th>class</th>\n",
              "      <td>756.0</td>\n",
              "      <td>0.746032</td>\n",
              "      <td>0.435568</td>\n",
              "      <td>0.000000</td>\n",
              "      <td>0.000000</td>\n",
              "      <td>1.000000</td>\n",
              "      <td>1.000000</td>\n",
              "      <td>1.00000</td>\n",
              "    </tr>\n",
              "  </tbody>\n",
              "</table>\n",
              "<p>755 rows × 8 columns</p>\n",
              "</div>"
            ],
            "text/plain": [
              "                           count        mean        std       min        25%  \\\n",
              "id                         756.0  125.500000  72.793721  0.000000  62.750000   \n",
              "gender                     756.0    0.515873   0.500079  0.000000   0.000000   \n",
              "PPE                        756.0    0.746284   0.169294  0.041551   0.762833   \n",
              "DFA                        756.0    0.700414   0.069718  0.543500   0.647053   \n",
              "RPDE                       756.0    0.489058   0.137442  0.154300   0.386537   \n",
              "...                          ...         ...        ...       ...        ...   \n",
              "tqwt_kurtosisValue_dec_33  756.0   12.375335  16.341665  1.628700   3.114375   \n",
              "tqwt_kurtosisValue_dec_34  756.0   14.799230  15.722502  1.861700   3.665925   \n",
              "tqwt_kurtosisValue_dec_35  756.0   14.751559  14.432979  1.955900   3.741275   \n",
              "tqwt_kurtosisValue_dec_36  756.0   31.481110  34.230991  2.364000   3.948750   \n",
              "class                      756.0    0.746032   0.435568  0.000000   0.000000   \n",
              "\n",
              "                                  50%         75%        max  \n",
              "id                         125.500000  188.250000  251.00000  \n",
              "gender                       1.000000    1.000000    1.00000  \n",
              "PPE                          0.809655    0.834315    0.90766  \n",
              "DFA                          0.700525    0.754985    0.85264  \n",
              "RPDE                         0.484355    0.586515    0.87123  \n",
              "...                               ...         ...        ...  \n",
              "tqwt_kurtosisValue_dec_33    4.741450   12.201325   73.53220  \n",
              "tqwt_kurtosisValue_dec_34    6.725700   21.922050   62.00730  \n",
              "tqwt_kurtosisValue_dec_35    7.334250   22.495175   57.54430  \n",
              "tqwt_kurtosisValue_dec_36   10.637250   61.125325  156.42370  \n",
              "class                        1.000000    1.000000    1.00000  \n",
              "\n",
              "[755 rows x 8 columns]"
            ]
          },
          "execution_count": 8,
          "metadata": {},
          "output_type": "execute_result"
        }
      ],
      "source": [
        "df.describe().T"
      ]
    },
    {
      "cell_type": "code",
      "execution_count": 9,
      "metadata": {
        "colab": {
          "base_uri": "https://localhost:8080/"
        },
        "id": "kFp2K49WQ8v7",
        "outputId": "d754220c-dbb2-436f-f09f-a00aa174cfe0"
      },
      "outputs": [
        {
          "data": {
            "text/plain": [
              "np.int64(0)"
            ]
          },
          "execution_count": 9,
          "metadata": {},
          "output_type": "execute_result"
        }
      ],
      "source": [
        "df.isnull().sum().sum()"
      ]
    },
    {
      "cell_type": "code",
      "execution_count": 10,
      "metadata": {
        "id": "9kTA7himg6la"
      },
      "outputs": [],
      "source": [
        "df = df.groupby('id').mean().reset_index()\n",
        "df.drop('id', axis=1, inplace=True)"
      ]
    },
    {
      "cell_type": "code",
      "execution_count": 11,
      "metadata": {
        "colab": {
          "base_uri": "https://localhost:8080/"
        },
        "id": "vmb-STOFg7gT",
        "outputId": "de9f86d0-dbe0-45d8-aada-f9c15ca19445"
      },
      "outputs": [
        {
          "data": {
            "text/plain": [
              "(252, 287)"
            ]
          },
          "execution_count": 11,
          "metadata": {},
          "output_type": "execute_result"
        }
      ],
      "source": [
        "columns = list(df.columns)\n",
        "for col in columns:\n",
        "\tif col == 'class':\n",
        "\t\tcontinue\n",
        "\n",
        "\tfiltered_columns = [col]\n",
        "\tfor col1 in df.columns:\n",
        "\t\tif((col == col1) | (col == 'class')):\n",
        "\t\t\tcontinue\n",
        "\n",
        "\t\tval = df[col].corr(df[col1])\n",
        "\n",
        "\t\tif val > 0.7:\n",
        "\t\t\t# If the correlation between the two\n",
        "\t\t\t# features is more than 0.7 remove\n",
        "\t\t\tcolumns.remove(col1)\n",
        "\t\t\tcontinue\n",
        "\t\telse:\n",
        "\t\t\tfiltered_columns.append(col1)\n",
        "\n",
        "\t# After each iteration filter out the columns\n",
        "\tdf = df[filtered_columns]\n",
        "df.shape"
      ]
    },
    {
      "cell_type": "code",
      "execution_count": 12,
      "metadata": {
        "colab": {
          "base_uri": "https://localhost:8080/"
        },
        "id": "4vjTyVNJg8uy",
        "outputId": "62831fea-e502-4381-ce3a-f6ae0e9cbc9d"
      },
      "outputs": [
        {
          "data": {
            "text/plain": [
              "(252, 31)"
            ]
          },
          "execution_count": 12,
          "metadata": {},
          "output_type": "execute_result"
        }
      ],
      "source": [
        "X = df.drop('class', axis=1)\n",
        "X_norm = MinMaxScaler().fit_transform(X)\n",
        "selector = SelectKBest(chi2, k=30)\n",
        "selector.fit(X_norm, df['class'])\n",
        "filtered_columns = selector.get_support()\n",
        "filtered_data = X.loc[:, filtered_columns]\n",
        "filtered_data['class'] = df['class']\n",
        "df = filtered_data\n",
        "df.shape"
      ]
    },
    {
      "cell_type": "code",
      "execution_count": 13,
      "metadata": {
        "colab": {
          "base_uri": "https://localhost:8080/",
          "height": 406
        },
        "id": "twB_CTOsg911",
        "outputId": "d171a2b8-4f27-478f-d029-600097380eb7"
      },
      "outputs": [
        {
          "data": {
            "image/png": "[encoded data removed]",
            "text/plain": [
              "<Figure size 640x480 with 1 Axes>"
            ]
          },
          "metadata": {},
          "output_type": "display_data"
        }
      ],
      "source": [
        "x = df['class'].value_counts()\n",
        "plt.pie(x.values,\n",
        "\t\tlabels = x.index,\n",
        "\t\tautopct='%1.1f%%')\n",
        "plt.show()"
      ]
    },
    {
      "cell_type": "code",
      "execution_count": 14,
      "metadata": {
        "colab": {
          "base_uri": "https://localhost:8080/"
        },
        "id": "DoTwF-YLg-_B",
        "outputId": "466f48c6-0556-4e97-dba9-38972ad2389a"
      },
      "outputs": [
        {
          "data": {
            "text/plain": [
              "((302, 30),\n",
              " class\n",
              " 1.0    151\n",
              " 0.0    151\n",
              " Name: count, dtype: int64)"
            ]
          },
          "execution_count": 14,
          "metadata": {},
          "output_type": "execute_result"
        }
      ],
      "source": [
        "features = df.drop('class', axis=1)\n",
        "target = df['class']\n",
        "\n",
        "\n",
        "X_train, X_val, y_train, y_val = train_test_split(features, target,\n",
        "                                                  test_size=0.2,\n",
        "                                                  random_state=10)\n",
        "\n",
        "ros = RandomOverSampler(sampling_strategy=1.0, random_state=0)\n",
        "X_resampled, y_resampled = ros.fit_resample(X_train, y_train)\n",
        "\n",
        "X_resampled.shape, y_resampled.value_counts()"
      ]
    },
    {
      "cell_type": "code",
      "execution_count": 15,
      "metadata": {
        "colab": {
          "base_uri": "https://localhost:8080/"
        },
        "id": "gzWQHuWVhBQ5",
        "outputId": "75598672-9c9f-4c31-9029-019fb3f43361"
      },
      "outputs": [
        {
          "name": "stdout",
          "output_type": "stream",
          "text": [
            "LogisticRegression(class_weight='balanced') : \n",
            "Training Accuracy :  0.7649006622516556\n",
            "Validation Accuracy :  0.8301158301158301\n",
            "\n",
            "XGBClassifier(base_score=None, booster=None, callbacks=None,\n",
            "              colsample_bylevel=None, colsample_bynode=None,\n",
            "              colsample_bytree=None, device=None, early_stopping_rounds=None,\n",
            "              enable_categorical=False, eval_metric=None, feature_types=None,\n",
            "              feature_weights=None, gamma=None, grow_policy=None,\n",
            "              importance_type=None, interaction_constraints=None,\n",
            "              learning_rate=None, max_bin=None, max_cat_threshold=None,\n",
            "              max_cat_to_onehot=None, max_delta_step=None, max_depth=None,\n",
            "              max_leaves=None, min_child_weight=None, missing=nan,\n",
            "              monotone_constraints=None, multi_strategy=None, n_estimators=None,\n",
            "              n_jobs=None, num_parallel_tree=None, ...) : \n",
            "Training Accuracy :  1.0\n",
            "Validation Accuracy :  0.6467181467181468\n",
            "\n",
            "SVC(probability=True) : \n",
            "Training Accuracy :  0.6258278145695364\n",
            "Validation Accuracy :  0.6457528957528957\n",
            "\n"
          ]
        }
      ],
      "source": [
        "from sklearn.metrics import roc_auc_score as ras\n",
        "\n",
        "# Models list\n",
        "models = [LogisticRegression(class_weight='balanced'), XGBClassifier(), SVC(kernel='rbf', probability=True)]\n",
        "\n",
        "# Model training and evaluation\n",
        "for model in models:\n",
        "    model.fit(X_resampled, y_resampled)\n",
        "\n",
        "    print(f'{model} : ')\n",
        "\n",
        "    train_preds = model.predict(X_resampled)\n",
        "    print('Training Accuracy : ', ras(y_resampled, train_preds))\n",
        "\n",
        "    val_preds = model.predict(X_val)\n",
        "    print('Validation Accuracy : ', ras(y_val, val_preds))\n",
        "    print()\n"
      ]
    },
    {
      "cell_type": "code",
      "execution_count": 16,
      "metadata": {
        "colab": {
          "base_uri": "https://localhost:8080/",
          "height": 455
        },
        "id": "b7pACb6fFoFs",
        "outputId": "3cca6a84-372b-4151-939c-9038b31fb693"
      },
      "outputs": [
        {
          "data": {
            "image/png": "[encoded data removed]",
            "text/plain": [
              "<Figure size 640x480 with 2 Axes>"
            ]
          },
          "metadata": {},
          "output_type": "display_data"
        }
      ],
      "source": [
        "from sklearn.metrics import ConfusionMatrixDisplay\n",
        "ConfusionMatrixDisplay.from_estimator(models[0], X_val, y_val)\n",
        "plt.show()"
      ]
    },
    {
      "cell_type": "code",
      "execution_count": null,
      "metadata": {
        "id": "w1uFjdFVG8-N"
      },
      "outputs": [],
      "source": []
    }
  ],
  "metadata": {
    "colab": {
      "provenance": []
    },
    "kernelspec": {
      "display_name": "Python 3",
      "name": "python3"
    },
    "language_info": {
      "codemirror_mode": {
        "name": "ipython",
        "version": 3
      },
      "file_extension": ".py",
      "mimetype": "text/x-python",
      "name": "python",
      "nbconvert_exporter": "python",
      "pygments_lexer": "ipython3",
      "version": "3.12.4"
    }
  },
  "nbformat": 4,
  "nbformat_minor": 0
}
